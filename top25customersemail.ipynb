{
 "cells": [
  {
   "cell_type": "code",
   "execution_count": 1,
   "metadata": {},
   "outputs": [],
   "source": [
    "#Script to show PostgreSQL and Psycopg working together\n",
    "# I want to pull top 25 customers to send a cusomized personal email on behalf of the company\n",
    "\n",
    "import psycopg2 as pg2\n",
    "\n",
    "try:\n",
    "    conn = pg2.connect(database='dvdrental',user='user',password='password')\n",
    "except:\n",
    "    print(\"I am unable to connect to the database\")"
   ]
  },
  {
   "cell_type": "code",
   "execution_count": 2,
   "metadata": {},
   "outputs": [],
   "source": [
    "cur = conn.cursor()"
   ]
  },
  {
   "cell_type": "code",
   "execution_count": 3,
   "metadata": {},
   "outputs": [],
   "source": [
    "#Who are our highest paying customers from our payment table?\n",
    "cur.execute('SELECT customer.customer_id, customer.first_name, customer.last_name, customer.email, SUM(payment.amount) FROM customer JOIN payment ON payment.customer_id = customer.customer_id GROUP BY customer.customer_id, customer.first_name, customer.last_name, customer.email ORDER BY SUM(payment.amount) DESC LIMIT 25;')"
   ]
  },
  {
   "cell_type": "code",
   "execution_count": 4,
   "metadata": {},
   "outputs": [],
   "source": [
    "data = cur.fetchall()"
   ]
  },
  {
   "cell_type": "code",
   "execution_count": 5,
   "metadata": {},
   "outputs": [
    {
     "data": {
      "text/plain": [
       "[(148,\n",
       "  'Eleanor',\n",
       "  'Hunt',\n",
       "  'eleanor.hunt@sakilacustomer.org',\n",
       "  Decimal('211.55')),\n",
       " (526, 'Karl', 'Seal', 'karl.seal@sakilacustomer.org', Decimal('208.58')),\n",
       " (178,\n",
       "  'Marion',\n",
       "  'Snyder',\n",
       "  'marion.snyder@sakilacustomer.org',\n",
       "  Decimal('194.61')),\n",
       " (137,\n",
       "  'Rhonda',\n",
       "  'Kennedy',\n",
       "  'rhonda.kennedy@sakilacustomer.org',\n",
       "  Decimal('191.62')),\n",
       " (144, 'Clara', 'Shaw', 'clara.shaw@sakilacustomer.org', Decimal('189.60')),\n",
       " (459,\n",
       "  'Tommy',\n",
       "  'Collazo',\n",
       "  'tommy.collazo@sakilacustomer.org',\n",
       "  Decimal('183.63')),\n",
       " (181, 'Ana', 'Bradley', 'ana.bradley@sakilacustomer.org', Decimal('167.67')),\n",
       " (410, 'Curtis', 'Irby', 'curtis.irby@sakilacustomer.org', Decimal('167.62')),\n",
       " (236, 'Marcia', 'Dean', 'marcia.dean@sakilacustomer.org', Decimal('166.61')),\n",
       " (403, 'Mike', 'Way', 'mike.way@sakilacustomer.org', Decimal('162.67')),\n",
       " (522,\n",
       "  'Arnold',\n",
       "  'Havens',\n",
       "  'arnold.havens@sakilacustomer.org',\n",
       "  Decimal('161.68')),\n",
       " (469, 'Wesley', 'Bull', 'wesley.bull@sakilacustomer.org', Decimal('158.65')),\n",
       " (470,\n",
       "  'Gordon',\n",
       "  'Allard',\n",
       "  'gordon.allard@sakilacustomer.org',\n",
       "  Decimal('157.69')),\n",
       " (373, 'Louis', 'Leone', 'louis.leone@sakilacustomer.org', Decimal('156.66')),\n",
       " (259, 'Lena', 'Jensen', 'lena.jensen@sakilacustomer.org', Decimal('154.70')),\n",
       " (468, 'Tim', 'Cary', 'tim.cary@sakilacustomer.org', Decimal('154.66')),\n",
       " (462,\n",
       "  'Warren',\n",
       "  'Sherrod',\n",
       "  'warren.sherrod@sakilacustomer.org',\n",
       "  Decimal('152.69')),\n",
       " (372,\n",
       "  'Steve',\n",
       "  'Mackenzie',\n",
       "  'steve.mackenzie@sakilacustomer.org',\n",
       "  Decimal('152.68')),\n",
       " (187,\n",
       "  'Brittany',\n",
       "  'Riley',\n",
       "  'brittany.riley@sakilacustomer.org',\n",
       "  Decimal('151.73')),\n",
       " (550,\n",
       "  'Guy',\n",
       "  'Brownlee',\n",
       "  'guy.brownlee@sakilacustomer.org',\n",
       "  Decimal('151.69')),\n",
       " (176,\n",
       "  'June',\n",
       "  'Carroll',\n",
       "  'june.carroll@sakilacustomer.org',\n",
       "  Decimal('151.68')),\n",
       " (532, 'Neil', 'Renner', 'neil.renner@sakilacustomer.org', Decimal('149.69')),\n",
       " (75,\n",
       "  'Tammy',\n",
       "  'Sanders',\n",
       "  'tammy.sanders@sakilacustomer.org',\n",
       "  Decimal('149.61')),\n",
       " (209,\n",
       "  'Tonya',\n",
       "  'Chapman',\n",
       "  'tonya.chapman@sakilacustomer.org',\n",
       "  Decimal('147.71')),\n",
       " (26, 'Jessica', 'Hall', 'jessica.hall@sakilacustomer.org', Decimal('146.68'))]"
      ]
     },
     "execution_count": 5,
     "metadata": {},
     "output_type": "execute_result"
    }
   ],
   "source": [
    "data"
   ]
  },
  {
   "cell_type": "code",
   "execution_count": 23,
   "metadata": {},
   "outputs": [],
   "source": [
    "top25 = [(x[1], x[2], x[3]) for x in data]"
   ]
  },
  {
   "cell_type": "code",
   "execution_count": 24,
   "metadata": {},
   "outputs": [
    {
     "data": {
      "text/plain": [
       "[('Eleanor', 'Hunt', 'eleanor.hunt@sakilacustomer.org'),\n",
       " ('Karl', 'Seal', 'karl.seal@sakilacustomer.org'),\n",
       " ('Marion', 'Snyder', 'marion.snyder@sakilacustomer.org'),\n",
       " ('Rhonda', 'Kennedy', 'rhonda.kennedy@sakilacustomer.org'),\n",
       " ('Clara', 'Shaw', 'clara.shaw@sakilacustomer.org'),\n",
       " ('Tommy', 'Collazo', 'tommy.collazo@sakilacustomer.org'),\n",
       " ('Ana', 'Bradley', 'ana.bradley@sakilacustomer.org'),\n",
       " ('Curtis', 'Irby', 'curtis.irby@sakilacustomer.org'),\n",
       " ('Marcia', 'Dean', 'marcia.dean@sakilacustomer.org'),\n",
       " ('Mike', 'Way', 'mike.way@sakilacustomer.org'),\n",
       " ('Arnold', 'Havens', 'arnold.havens@sakilacustomer.org'),\n",
       " ('Wesley', 'Bull', 'wesley.bull@sakilacustomer.org'),\n",
       " ('Gordon', 'Allard', 'gordon.allard@sakilacustomer.org'),\n",
       " ('Louis', 'Leone', 'louis.leone@sakilacustomer.org'),\n",
       " ('Lena', 'Jensen', 'lena.jensen@sakilacustomer.org'),\n",
       " ('Tim', 'Cary', 'tim.cary@sakilacustomer.org'),\n",
       " ('Warren', 'Sherrod', 'warren.sherrod@sakilacustomer.org'),\n",
       " ('Steve', 'Mackenzie', 'steve.mackenzie@sakilacustomer.org'),\n",
       " ('Brittany', 'Riley', 'brittany.riley@sakilacustomer.org'),\n",
       " ('Guy', 'Brownlee', 'guy.brownlee@sakilacustomer.org'),\n",
       " ('June', 'Carroll', 'june.carroll@sakilacustomer.org'),\n",
       " ('Neil', 'Renner', 'neil.renner@sakilacustomer.org'),\n",
       " ('Tammy', 'Sanders', 'tammy.sanders@sakilacustomer.org'),\n",
       " ('Tonya', 'Chapman', 'tonya.chapman@sakilacustomer.org'),\n",
       " ('Jessica', 'Hall', 'jessica.hall@sakilacustomer.org')]"
      ]
     },
     "execution_count": 24,
     "metadata": {},
     "output_type": "execute_result"
    }
   ],
   "source": [
    "top25"
   ]
  },
  {
   "cell_type": "code",
   "execution_count": 33,
   "metadata": {},
   "outputs": [
    {
     "name": "stdout",
     "output_type": "stream",
     "text": [
      "Hello Eleanor Hunt,\n",
      "\n",
      "We wanted to extend our gratitude to you as you are being recognized as a valued customer with our company. We are offering additional discounts to you as a measure of our thanks, please see the links below to take advantage!\n"
     ]
    }
   ],
   "source": [
    "print(\"Hello \" + top25[0][0] + \" \" + top25[0][1] + \",\\n\\nWe wanted to extend our gratitude to you as you are being recognized as a valued customer with our company. We are offering additional discounts to you as a measure of our thanks, please see the links below to take advantage!\")"
   ]
  },
  {
   "cell_type": "code",
   "execution_count": null,
   "metadata": {},
   "outputs": [],
   "source": [
    "\n",
    "    "
   ]
  }
 ],
 "metadata": {
  "kernelspec": {
   "display_name": "Python 3",
   "language": "python",
   "name": "python3"
  },
  "language_info": {
   "codemirror_mode": {
    "name": "ipython",
    "version": 3
   },
   "file_extension": ".py",
   "mimetype": "text/x-python",
   "name": "python",
   "nbconvert_exporter": "python",
   "pygments_lexer": "ipython3",
   "version": "3.7.3"
  }
 },
 "nbformat": 4,
 "nbformat_minor": 2
}
